{
 "cells": [
  {
   "cell_type": "markdown",
   "metadata": {},
   "source": [
    "## initialize"
   ]
  },
  {
   "cell_type": "code",
   "execution_count": 1,
   "metadata": {},
   "outputs": [
    {
     "name": "stdout",
     "output_type": "stream",
     "text": [
      "/Users/ales/dev/repos/ai-audio-books\n"
     ]
    },
    {
     "name": "stderr",
     "output_type": "stream",
     "text": [
      "/Users/ales/dev/python-venvs/ai-audio-books/lib/python3.12/site-packages/IPython/core/magics/osm.py:417: UserWarning: This is now an optional IPython functionality, setting dhist requires you to install the `pickleshare` library.\n",
      "  self.shell.db['dhist'] = compress_dhist(dhist)[-100:]\n"
     ]
    }
   ],
   "source": [
    "%cd .."
   ]
  },
  {
   "cell_type": "code",
   "execution_count": 2,
   "metadata": {},
   "outputs": [],
   "source": [
    "%load_ext autoreload\n",
    "%autoreload 2"
   ]
  },
  {
   "cell_type": "code",
   "execution_count": 3,
   "metadata": {},
   "outputs": [],
   "source": [
    "import os\n",
    "\n",
    "from pprint import pprint\n",
    "\n",
    "import dotenv\n",
    "import pandas as pd\n",
    "from httpx import Timeout\n",
    "from pydantic import BaseModel\n",
    "from langchain_core.prompts import (\n",
    "    ChatPromptTemplate,\n",
    "    SystemMessagePromptTemplate,\n",
    "    HumanMessagePromptTemplate,\n",
    ")\n",
    "from langchain_openai import ChatOpenAI\n",
    "from langchain_community.callbacks import get_openai_callback\n",
    "\n",
    "from IPython.display import Audio\n",
    "\n",
    "import data.samples_to_split as samples\n",
    "\n",
    "from src.lc_callbacks import LCMessageLoggerAsync\n",
    "from src.schemas import AudioOutputFormat, TTSParams, TTSTimestampsResponse\n",
    "from src.text_split_chain import create_split_text_chain\n",
    "from src import tts\n",
    "from src.utils import GPTModels"
   ]
  },
  {
   "cell_type": "code",
   "execution_count": 4,
   "metadata": {},
   "outputs": [
    {
     "data": {
      "text/plain": [
       "True"
      ]
     },
     "execution_count": 4,
     "metadata": {},
     "output_type": "execute_result"
    }
   ],
   "source": [
    "dotenv.load_dotenv()"
   ]
  },
  {
   "cell_type": "code",
   "execution_count": null,
   "metadata": {},
   "outputs": [],
   "source": []
  },
  {
   "cell_type": "markdown",
   "metadata": {},
   "source": [
    "## split text into character phrases"
   ]
  },
  {
   "cell_type": "code",
   "execution_count": 5,
   "metadata": {},
   "outputs": [
    {
     "name": "stderr",
     "output_type": "stream",
     "text": [
      "2024-10-28 20:28:17,735 [INFO] audio-books (lc_callbacks.py): call to gpt-4o with 2 messages:\n",
      "{'role': 'system', 'content': 'you are provided with the book sample.\\nplease rewrite it and insert xml tags indicating character to whom current phrase belongs.\\nfor example: <narrator>I looked at her</narrator><Jill>What are you looking at?</Jill>\\n\\nNotes:\\n- sometimes narrator is one of characters taking part in the action.\\nin this case use narrator\\'s name (if available) instead of \"narrator\"\\n- if it\\'s impossible to identify character name from the text provided, use codes \"c1\", \"c2\", etc,\\nwhere \"c\" prefix means character and number is used to enumerate unknown characters\\n- all quotes of direct speech must be attributed to characters, for example:\\n<Tom>“She’s a nice girl,”</Tom><narrator>said Tom after a moment.</narrator>\\nmind that sometimes narrator could also be a character.\\n- use ALL available context to determine the character.\\nsometimes the character name becomes clear from the following phrases\\n- DO NOT include in your response anything except for the original text with character xml tags!!!\\n'}\n",
      "{'role': 'human', 'content': 'Here is the book sample:\\n---\\nInside, the crimson room bloomed with light. Tom and Miss Baker sat at\\neither end of the long couch and she read aloud to him from the\\nSaturday Evening Post—the words, murmurous and uninflected, running\\ntogether in a soothing tune. The lamplight, bright on his boots and\\ndull on the autumn-leaf yellow of her hair, glinted along the paper as\\nshe turned a page with a flutter of slender muscles in her arms.\\n\\nWhen we came in she held us silent for a moment with a lifted hand.\\n\\n“To be continued,” she said, tossing the magazine on the table, “in\\nour very next issue.”\\n\\nHer body asserted itself with a restless movement of her knee, and she\\nstood up.\\n\\n“Ten o’clock,” she remarked, apparently finding the time on the\\nceiling. “Time for this good girl to go to bed.”\\n\\n“Jordan’s going to play in the tournament tomorrow,” explained Daisy,\\n“over at Westchester.”\\n\\n“Oh—you’re Jordan Baker.”\\n\\nI knew now why her face was familiar—its pleasing contemptuous\\nexpression had looked out at me from many rotogravure pictures of the\\nsporting life at Asheville and Hot Springs and Palm Beach. I had heard\\nsome story of her too, a critical, unpleasant story, but what it was I\\nhad forgotten long ago.\\n\\n“Good night,” she said softly. “Wake me at eight, won’t you.”\\n\\n“If you’ll get up.”\\n\\n“I will. Good night, Mr. Carraway. See you anon.”\\n\\n“Of course you will,” confirmed Daisy. “In fact I think I’ll arrange a\\nmarriage. Come over often, Nick, and I’ll sort of—oh—fling you\\ntogether. You know—lock you up accidentally in linen closets and push\\nyou out to sea in a boat, and all that sort of thing—”\\n\\n“Good night,” called Miss Baker from the stairs. “I haven’t heard a\\nword.”\\n\\n“She’s a nice girl,” said Tom after a moment. “They oughtn’t to let\\nher run around the country this way.”\\n\\n“Who oughtn’t to?” inquired Daisy coldly.\\n\\n“Her family.”\\n\\n“Her family is one aunt about a thousand years old. Besides, Nick’s\\ngoing to look after her, aren’t you, Nick? She’s going to spend lots\\nof weekends out here this summer. I think the home influence will be\\nvery good for her.”\\n\\nDaisy and Tom looked at each other for a moment in silence.\\n\\n“Is she from New York?” I asked quickly.\\n\\n“From Louisville. Our white girlhood was passed together there. Our\\nbeautiful white—”\\n\\n“Did you give Nick a little heart to heart talk on the veranda?”\\ndemanded Tom suddenly.\\n\\n“Did I?” She looked at me. “I can’t seem to remember, but I think we\\ntalked about the Nordic race. Yes, I’m sure we did. It sort of crept\\nup on us and first thing you know—”\\n\\n“Don’t believe everything you hear, Nick,” he advised me.\\n'}\n",
      "2024-10-28 20:28:32,482 [INFO] httpx (_client.py): HTTP Request: POST https://api.openai.com/v1/chat/completions \"HTTP/1.1 200 OK\"\n",
      "2024-10-28 20:28:32,497 [INFO] audio-books (lc_callbacks.py): raw LLM response: \"<narrator>Inside, the crimson room bloomed with light. Tom and Miss Baker sat at either end of the long couch and she read aloud to him from the Saturday Evening Post—the words, murmurous and uninflected, running together in a soothing tune. The lamplight, bright on his boots and dull on the autumn-leaf yellow of her hair, glinted along the paper as she turned a page with a flutter of slender muscles in her arms.</narrator>\n",
      "\n",
      "<narrator>When we came in she held us silent for a moment with a lifted hand.</narrator>\n",
      "\n",
      "<Jordan>“To be continued,”</Jordan> <narrator>she said, tossing the magazine on the table,</narrator> <Jordan>“in our very next issue.”</Jordan>\n",
      "\n",
      "<narrator>Her body asserted itself with a restless movement of her knee, and she stood up.</narrator>\n",
      "\n",
      "<Jordan>“Ten o’clock,”</Jordan> <narrator>she remarked, apparently finding the time on the ceiling.</narrator> <Jordan>“Time for this good girl to go to bed.”</Jordan>\n",
      "\n",
      "<Daisy>“Jordan’s going to play in the tournament tomorrow,”</Daisy> <narrator>explained Daisy,</narrator> <Daisy>“over at Westchester.”</Daisy>\n",
      "\n",
      "<narrator>“Oh—you’re Jordan Baker.”</narrator>\n",
      "\n",
      "<narrator>I knew now why her face was familiar—its pleasing contemptuous expression had looked out at me from many rotogravure pictures of the sporting life at Asheville and Hot Springs and Palm Beach. I had heard some story of her too, a critical, unpleasant story, but what it was I had forgotten long ago.</narrator>\n",
      "\n",
      "<Jordan>“Good night,”</Jordan> <narrator>she said softly.</narrator> <Jordan>“Wake me at eight, won’t you.”</Jordan>\n",
      "\n",
      "<Tom>“If you’ll get up.”</Tom>\n",
      "\n",
      "<Jordan>“I will. Good night, Mr. Carraway. See you anon.”</Jordan>\n",
      "\n",
      "<Daisy>“Of course you will,”</Daisy> <narrator>confirmed Daisy.</narrator> <Daisy>“In fact I think I’ll arrange a marriage. Come over often, Nick, and I’ll sort of—oh—fling you together. You know—lock you up accidentally in linen closets and push you out to sea in a boat, and all that sort of thing—”</Daisy>\n",
      "\n",
      "<Jordan>“Good night,”</Jordan> <narrator>called Miss Baker from the stairs.</narrator> <Jordan>“I haven’t heard a word.”</Jordan>\n",
      "\n",
      "<Tom>“She’s a nice girl,”</Tom> <narrator>said Tom after a moment.</narrator> <Tom>“They oughtn’t to let her run around the country this way.”</Tom>\n",
      "\n",
      "<Daisy>“Who oughtn’t to?”</Daisy> <narrator>inquired Daisy coldly.</narrator>\n",
      "\n",
      "<Tom>“Her family.”</Tom>\n",
      "\n",
      "<Daisy>“Her family is one aunt about a thousand years old. Besides, Nick’s going to look after her, aren’t you, Nick? She’s going to spend lots of weekends out here this summer. I think the home influence will be very good for her.”</Daisy>\n",
      "\n",
      "<narrator>Daisy and Tom looked at each other for a moment in silence.</narrator>\n",
      "\n",
      "<narrator>“Is she from New York?”</narrator> <narrator>I asked quickly.</narrator>\n",
      "\n",
      "<Daisy>“From Louisville. Our white girlhood was passed together there. Our beautiful white—”</Daisy>\n",
      "\n",
      "<Tom>“Did you give Nick a little heart to heart talk on the veranda?”</Tom> <narrator>demanded Tom suddenly.</narrator>\n",
      "\n",
      "<Daisy>“Did I?”</Daisy> <narrator>She looked at me.</narrator> <Daisy>“I can’t seem to remember, but I think we talked about the Nordic race. Yes, I’m sure we did. It sort of crept up on us and first thing you know—”</Daisy>\n",
      "\n",
      "<Tom>“Don’t believe everything you hear, Nick,”</Tom> <narrator>he advised me.</narrator>\"\n"
     ]
    }
   ],
   "source": [
    "chain = create_split_text_chain(llm_model=GPTModels.GPT_4o)\n",
    "# chain = create_split_text_chain(llm_model=GPTModels.GPT_4_TURBO_2024_04_09)\n",
    "with get_openai_callback() as cb:\n",
    "    res = chain.invoke(\n",
    "        {\"text\": samples.GATSBY_2}, config={\"callbacks\": [LCMessageLoggerAsync()]}\n",
    "    )"
   ]
  },
  {
   "cell_type": "code",
   "execution_count": 9,
   "metadata": {},
   "outputs": [
    {
     "data": {
      "text/plain": [
       "['Tom', 'Jordan', 'narrator', 'Daisy']"
      ]
     },
     "execution_count": 9,
     "metadata": {},
     "output_type": "execute_result"
    }
   ],
   "source": [
    "res.characters"
   ]
  },
  {
   "cell_type": "code",
   "execution_count": 10,
   "metadata": {},
   "outputs": [
    {
     "name": "stdout",
     "output_type": "stream",
     "text": [
      "<narrator>Inside, the crimson room bloomed with light. Tom and Miss Baker sat at either end of the long couch and she read aloud to him from the Saturday Evening Post—the words, murmurous and uninflected, running together in a soothing tune. The lamplight, bright on his boots and dull on the autumn-leaf yellow of her hair, glinted along the paper as she turned a page with a flutter of slender muscles in her arms.</narrator>\n",
      "\n",
      "<narrator>When we came in she held us silent for a moment with a lifted hand.</narrator>\n",
      "\n",
      "<Jordan>“To be continued,”</Jordan> <narrator>she said, tossing the magazine on the table,</narrator> <Jordan>“in our very next issue.”</Jordan>\n",
      "\n",
      "<narrator>Her body asserted itself with a restless movement of her knee, and she stood up.</narrator>\n",
      "\n",
      "<Jordan>“Ten o’clock,”</Jordan> <narrator>she remarked, apparently finding the time on the ceiling.</narrator> <Jordan>“Time for this good girl to go to bed.”</Jordan>\n",
      "\n",
      "<Daisy>“Jordan’s going to play in the tournament tomorrow,”</Daisy> <narrator>explained Daisy,</narrator> <Daisy>“over at Westchester.”</Daisy>\n",
      "\n",
      "<narrator>“Oh—you’re Jordan Baker.”</narrator>\n",
      "\n",
      "<narrator>I knew now why her face was familiar—its pleasing contemptuous expression had looked out at me from many rotogravure pictures of the sporting life at Asheville and Hot Springs and Palm Beach. I had heard some story of her too, a critical, unpleasant story, but what it was I had forgotten long ago.</narrator>\n",
      "\n",
      "<Jordan>“Good night,”</Jordan> <narrator>she said softly.</narrator> <Jordan>“Wake me at eight, won’t you.”</Jordan>\n",
      "\n",
      "<Tom>“If you’ll get up.”</Tom>\n",
      "\n",
      "<Jordan>“I will. Good night, Mr. Carraway. See you anon.”</Jordan>\n",
      "\n",
      "<Daisy>“Of course you will,”</Daisy> <narrator>confirmed Daisy.</narrator> <Daisy>“In fact I think I’ll arrange a marriage. Come over often, Nick, and I’ll sort of—oh—fling you together. You know—lock you up accidentally in linen closets and push you out to sea in a boat, and all that sort of thing—”</Daisy>\n",
      "\n",
      "<Jordan>“Good night,”</Jordan> <narrator>called Miss Baker from the stairs.</narrator> <Jordan>“I haven’t heard a word.”</Jordan>\n",
      "\n",
      "<Tom>“She’s a nice girl,”</Tom> <narrator>said Tom after a moment.</narrator> <Tom>“They oughtn’t to let her run around the country this way.”</Tom>\n",
      "\n",
      "<Daisy>“Who oughtn’t to?”</Daisy> <narrator>inquired Daisy coldly.</narrator>\n",
      "\n",
      "<Tom>“Her family.”</Tom>\n",
      "\n",
      "<Daisy>“Her family is one aunt about a thousand years old. Besides, Nick’s going to look after her, aren’t you, Nick? She’s going to spend lots of weekends out here this summer. I think the home influence will be very good for her.”</Daisy>\n",
      "\n",
      "<narrator>Daisy and Tom looked at each other for a moment in silence.</narrator>\n",
      "\n",
      "<narrator>“Is she from New York?”</narrator> <narrator>I asked quickly.</narrator>\n",
      "\n",
      "<Daisy>“From Louisville. Our white girlhood was passed together there. Our beautiful white—”</Daisy>\n",
      "\n",
      "<Tom>“Did you give Nick a little heart to heart talk on the veranda?”</Tom> <narrator>demanded Tom suddenly.</narrator>\n",
      "\n",
      "<Daisy>“Did I?”</Daisy> <narrator>She looked at me.</narrator> <Daisy>“I can’t seem to remember, but I think we talked about the Nordic race. Yes, I’m sure we did. It sort of crept up on us and first thing you know—”</Daisy>\n",
      "\n",
      "<Tom>“Don’t believe everything you hear, Nick,”</Tom> <narrator>he advised me.</narrator>\n"
     ]
    }
   ],
   "source": [
    "print(res.text_annotated)"
   ]
  },
  {
   "cell_type": "code",
   "execution_count": 12,
   "metadata": {},
   "outputs": [
    {
     "data": {
      "text/plain": [
       "[CharacterPhrase(character='narrator', text='Inside, the crimson room bloomed with light. Tom and Miss Baker sat at either end of the long couch and she read aloud to him from the Saturday Evening Post—the words, murmurous and uninflected, running together in a soothing tune. The lamplight, bright on his boots and dull on the autumn-leaf yellow of her hair, glinted along the paper as she turned a page with a flutter of slender muscles in her arms.'),\n",
       " CharacterPhrase(character='narrator', text='When we came in she held us silent for a moment with a lifted hand.'),\n",
       " CharacterPhrase(character='Jordan', text='“To be continued,”'),\n",
       " CharacterPhrase(character='narrator', text='she said, tossing the magazine on the table,'),\n",
       " CharacterPhrase(character='Jordan', text='“in our very next issue.”'),\n",
       " CharacterPhrase(character='narrator', text='Her body asserted itself with a restless movement of her knee, and she stood up.'),\n",
       " CharacterPhrase(character='Jordan', text='“Ten o’clock,”'),\n",
       " CharacterPhrase(character='narrator', text='she remarked, apparently finding the time on the ceiling.'),\n",
       " CharacterPhrase(character='Jordan', text='“Time for this good girl to go to bed.”'),\n",
       " CharacterPhrase(character='Daisy', text='“Jordan’s going to play in the tournament tomorrow,”'),\n",
       " CharacterPhrase(character='narrator', text='explained Daisy,'),\n",
       " CharacterPhrase(character='Daisy', text='“over at Westchester.”'),\n",
       " CharacterPhrase(character='narrator', text='“Oh—you’re Jordan Baker.”'),\n",
       " CharacterPhrase(character='narrator', text='I knew now why her face was familiar—its pleasing contemptuous expression had looked out at me from many rotogravure pictures of the sporting life at Asheville and Hot Springs and Palm Beach. I had heard some story of her too, a critical, unpleasant story, but what it was I had forgotten long ago.'),\n",
       " CharacterPhrase(character='Jordan', text='“Good night,”'),\n",
       " CharacterPhrase(character='narrator', text='she said softly.'),\n",
       " CharacterPhrase(character='Jordan', text='“Wake me at eight, won’t you.”'),\n",
       " CharacterPhrase(character='Tom', text='“If you’ll get up.”'),\n",
       " CharacterPhrase(character='Jordan', text='“I will. Good night, Mr. Carraway. See you anon.”'),\n",
       " CharacterPhrase(character='Daisy', text='“Of course you will,”'),\n",
       " CharacterPhrase(character='narrator', text='confirmed Daisy.'),\n",
       " CharacterPhrase(character='Daisy', text='“In fact I think I’ll arrange a marriage. Come over often, Nick, and I’ll sort of—oh—fling you together. You know—lock you up accidentally in linen closets and push you out to sea in a boat, and all that sort of thing—”'),\n",
       " CharacterPhrase(character='Jordan', text='“Good night,”'),\n",
       " CharacterPhrase(character='narrator', text='called Miss Baker from the stairs.'),\n",
       " CharacterPhrase(character='Jordan', text='“I haven’t heard a word.”'),\n",
       " CharacterPhrase(character='Tom', text='“She’s a nice girl,”'),\n",
       " CharacterPhrase(character='narrator', text='said Tom after a moment.'),\n",
       " CharacterPhrase(character='Tom', text='“They oughtn’t to let her run around the country this way.”'),\n",
       " CharacterPhrase(character='Daisy', text='“Who oughtn’t to?”'),\n",
       " CharacterPhrase(character='narrator', text='inquired Daisy coldly.'),\n",
       " CharacterPhrase(character='Tom', text='“Her family.”'),\n",
       " CharacterPhrase(character='Daisy', text='“Her family is one aunt about a thousand years old. Besides, Nick’s going to look after her, aren’t you, Nick? She’s going to spend lots of weekends out here this summer. I think the home influence will be very good for her.”'),\n",
       " CharacterPhrase(character='narrator', text='Daisy and Tom looked at each other for a moment in silence.'),\n",
       " CharacterPhrase(character='narrator', text='“Is she from New York?”'),\n",
       " CharacterPhrase(character='narrator', text='I asked quickly.'),\n",
       " CharacterPhrase(character='Daisy', text='“From Louisville. Our white girlhood was passed together there. Our beautiful white—”'),\n",
       " CharacterPhrase(character='Tom', text='“Did you give Nick a little heart to heart talk on the veranda?”'),\n",
       " CharacterPhrase(character='narrator', text='demanded Tom suddenly.'),\n",
       " CharacterPhrase(character='Daisy', text='“Did I?”'),\n",
       " CharacterPhrase(character='narrator', text='She looked at me.'),\n",
       " CharacterPhrase(character='Daisy', text='“I can’t seem to remember, but I think we talked about the Nordic race. Yes, I’m sure we did. It sort of crept up on us and first thing you know—”'),\n",
       " CharacterPhrase(character='Tom', text='“Don’t believe everything you hear, Nick,”'),\n",
       " CharacterPhrase(character='narrator', text='he advised me.')]"
      ]
     },
     "execution_count": 12,
     "metadata": {},
     "output_type": "execute_result"
    }
   ],
   "source": [
    "res.phrases"
   ]
  },
  {
   "cell_type": "code",
   "execution_count": 13,
   "metadata": {},
   "outputs": [
    {
     "name": "stdout",
     "output_type": "stream",
     "text": [
      "Inside, the crimson room bloomed with light. Tom and Miss Baker sat at\n",
      "either end of the long couch and she read aloud to him from the\n",
      "Saturday Evening Post—the words, murmurous and uninflected, running\n",
      "together in a soothing tune. The lamplight, bright on his boots and\n",
      "dull on the autumn-leaf yellow of her hair, glinted along the paper as\n",
      "she turned a page with a flutter of slender muscles in her arms.\n",
      "\n",
      "When we came in she held us silent for a moment with a lifted hand.\n",
      "\n",
      "“To be continued,” she said, tossing the magazine on the table, “in\n",
      "our very next issue.”\n",
      "\n",
      "Her body asserted itself with a restless movement of her knee, and she\n",
      "stood up.\n",
      "\n",
      "“Ten o’clock,” she remarked, apparently finding the time on the\n",
      "ceiling. “Time for this good girl to go to bed.”\n",
      "\n",
      "“Jordan’s going to play in the tournament tomorrow,” explained Daisy,\n",
      "“over at Westchester.”\n",
      "\n",
      "“Oh—you’re Jordan Baker.”\n",
      "\n",
      "I knew now why her face was familiar—its pleasing contemptuous\n",
      "expression had looked out at me from many rotogravure pictures of the\n",
      "sporting life at Asheville and Hot Springs and Palm Beach. I had heard\n",
      "some story of her too, a critical, unpleasant story, but what it was I\n",
      "had forgotten long ago.\n",
      "\n",
      "“Good night,” she said softly. “Wake me at eight, won’t you.”\n",
      "\n",
      "“If you’ll get up.”\n",
      "\n",
      "“I will. Good night, Mr. Carraway. See you anon.”\n",
      "\n",
      "“Of course you will,” confirmed Daisy. “In fact I think I’ll arrange a\n",
      "marriage. Come over often, Nick, and I’ll sort of—oh—fling you\n",
      "together. You know—lock you up accidentally in linen closets and push\n",
      "you out to sea in a boat, and all that sort of thing—”\n",
      "\n",
      "“Good night,” called Miss Baker from the stairs. “I haven’t heard a\n",
      "word.”\n",
      "\n",
      "“She’s a nice girl,” said Tom after a moment. “They oughtn’t to let\n",
      "her run around the country this way.”\n",
      "\n",
      "“Who oughtn’t to?” inquired Daisy coldly.\n",
      "\n",
      "“Her family.”\n",
      "\n",
      "“Her family is one aunt about a thousand years old. Besides, Nick’s\n",
      "going to look after her, aren’t you, Nick? She’s going to spend lots\n",
      "of weekends out here this summer. I think the home influence will be\n",
      "very good for her.”\n",
      "\n",
      "Daisy and Tom looked at each other for a moment in silence.\n",
      "\n",
      "“Is she from New York?” I asked quickly.\n",
      "\n",
      "“From Louisville. Our white girlhood was passed together there. Our\n",
      "beautiful white—”\n",
      "\n",
      "“Did you give Nick a little heart to heart talk on the veranda?”\n",
      "demanded Tom suddenly.\n",
      "\n",
      "“Did I?” She looked at me. “I can’t seem to remember, but I think we\n",
      "talked about the Nordic race. Yes, I’m sure we did. It sort of crept\n",
      "up on us and first thing you know—”\n",
      "\n",
      "“Don’t believe everything you hear, Nick,” he advised me.\n",
      "\n"
     ]
    }
   ],
   "source": [
    "print(res.text_raw)"
   ]
  },
  {
   "cell_type": "code",
   "execution_count": 14,
   "metadata": {},
   "outputs": [
    {
     "name": "stdout",
     "output_type": "stream",
     "text": [
      "characters: ['Tom', 'Jordan', 'narrator', 'Daisy']\n",
      "--------------------\n",
      "[narrator] Inside, the crimson room bloomed with light. Tom and Miss Baker sat at either end of the long couch and she read aloud to him from the Saturday Evening Post—the words, murmurous and uninflected, running together in a soothing tune. The lamplight, bright on his boots and dull on the autumn-leaf yellow of her hair, glinted along the paper as she turned a page with a flutter of slender muscles in her arms.\n",
      "[narrator] When we came in she held us silent for a moment with a lifted hand.\n",
      "[Jordan] “To be continued,”\n",
      "[narrator] she said, tossing the magazine on the table,\n",
      "[Jordan] “in our very next issue.”\n",
      "[narrator] Her body asserted itself with a restless movement of her knee, and she stood up.\n",
      "[Jordan] “Ten o’clock,”\n",
      "[narrator] she remarked, apparently finding the time on the ceiling.\n",
      "[Jordan] “Time for this good girl to go to bed.”\n",
      "[Daisy] “Jordan’s going to play in the tournament tomorrow,”\n",
      "[narrator] explained Daisy,\n",
      "[Daisy] “over at Westchester.”\n",
      "[narrator] “Oh—you’re Jordan Baker.”\n",
      "[narrator] I knew now why her face was familiar—its pleasing contemptuous expression had looked out at me from many rotogravure pictures of the sporting life at Asheville and Hot Springs and Palm Beach. I had heard some story of her too, a critical, unpleasant story, but what it was I had forgotten long ago.\n",
      "[Jordan] “Good night,”\n",
      "[narrator] she said softly.\n",
      "[Jordan] “Wake me at eight, won’t you.”\n",
      "[Tom] “If you’ll get up.”\n",
      "[Jordan] “I will. Good night, Mr. Carraway. See you anon.”\n",
      "[Daisy] “Of course you will,”\n",
      "[narrator] confirmed Daisy.\n",
      "[Daisy] “In fact I think I’ll arrange a marriage. Come over often, Nick, and I’ll sort of—oh—fling you together. You know—lock you up accidentally in linen closets and push you out to sea in a boat, and all that sort of thing—”\n",
      "[Jordan] “Good night,”\n",
      "[narrator] called Miss Baker from the stairs.\n",
      "[Jordan] “I haven’t heard a word.”\n",
      "[Tom] “She’s a nice girl,”\n",
      "[narrator] said Tom after a moment.\n",
      "[Tom] “They oughtn’t to let her run around the country this way.”\n",
      "[Daisy] “Who oughtn’t to?”\n",
      "[narrator] inquired Daisy coldly.\n",
      "[Tom] “Her family.”\n",
      "[Daisy] “Her family is one aunt about a thousand years old. Besides, Nick’s going to look after her, aren’t you, Nick? She’s going to spend lots of weekends out here this summer. I think the home influence will be very good for her.”\n",
      "[narrator] Daisy and Tom looked at each other for a moment in silence.\n",
      "[narrator] “Is she from New York?”\n",
      "[narrator] I asked quickly.\n",
      "[Daisy] “From Louisville. Our white girlhood was passed together there. Our beautiful white—”\n",
      "[Tom] “Did you give Nick a little heart to heart talk on the veranda?”\n",
      "[narrator] demanded Tom suddenly.\n",
      "[Daisy] “Did I?”\n",
      "[narrator] She looked at me.\n",
      "[Daisy] “I can’t seem to remember, but I think we talked about the Nordic race. Yes, I’m sure we did. It sort of crept up on us and first thing you know—”\n",
      "[Tom] “Don’t believe everything you hear, Nick,”\n",
      "[narrator] he advised me.\n"
     ]
    }
   ],
   "source": [
    "print(res.to_pretty_text())"
   ]
  },
  {
   "cell_type": "code",
   "execution_count": 10,
   "metadata": {},
   "outputs": [
    {
     "name": "stdout",
     "output_type": "stream",
     "text": [
      "LLM usage:\n",
      "\n",
      "Tokens Used: 1816\n",
      "\tPrompt Tokens: 877\n",
      "\tCompletion Tokens: 939\n",
      "Successful Requests: 1\n",
      "Total Cost (USD): $0.011582499999999999\n"
     ]
    }
   ],
   "source": [
    "print(f'LLM usage:\\n\\n{cb}')"
   ]
  },
  {
   "cell_type": "code",
   "execution_count": null,
   "metadata": {},
   "outputs": [],
   "source": []
  },
  {
   "cell_type": "markdown",
   "metadata": {},
   "source": [
    "## sound effects"
   ]
  },
  {
   "cell_type": "markdown",
   "metadata": {},
   "source": [
    "### map spans indices to original text indices"
   ]
  },
  {
   "cell_type": "code",
   "execution_count": 22,
   "metadata": {},
   "outputs": [],
   "source": [
    "import re\n",
    "from src import utils"
   ]
  },
  {
   "cell_type": "code",
   "execution_count": 59,
   "metadata": {},
   "outputs": [],
   "source": [
    "text_w_effects = \"\"\"\\\n",
    "Hello<effect prompt=\"soft wind blowing\"> - she said softly, gasping the fresh air from the window</effect>\n",
    "What are you next plans?\n",
    "<effect prompt=\"sound of a cars passing by\">Frankly, I don't know. I need more time</effect>\n",
    "\"\"\""
   ]
  },
  {
   "cell_type": "code",
   "execution_count": 62,
   "metadata": {},
   "outputs": [
    {
     "name": "stdout",
     "output_type": "stream",
     "text": [
      "Hello - she said softly, gasping the fresh air from the window\n",
      "What are you next plans?\n",
      "Frankly, I don't know. I need more time\n",
      "\n"
     ]
    }
   ],
   "source": [
    "text = re.sub(r'<.+?>', '', text_w_effects)\n",
    "print(text)"
   ]
  },
  {
   "cell_type": "code",
   "execution_count": 63,
   "metadata": {},
   "outputs": [],
   "source": [
    "pat = re.compile(r'<effect prompt=\\\"(.*?)\\\">(.*?)</effect>')"
   ]
  },
  {
   "cell_type": "code",
   "execution_count": 65,
   "metadata": {},
   "outputs": [
    {
     "data": {
      "text/plain": [
       "[<re.Match object; span=(5, 106), match='<effect prompt=\"soft wind blowing\"> - she said so>,\n",
       " <re.Match object; span=(132, 224), match='<effect prompt=\"sound of a cars passing by\">Frank>]"
      ]
     },
     "execution_count": 65,
     "metadata": {},
     "output_type": "execute_result"
    }
   ],
   "source": [
    "all_matches = list(pat.finditer(text_w_effects))\n",
    "all_matches"
   ]
  },
  {
   "cell_type": "code",
   "execution_count": 74,
   "metadata": {},
   "outputs": [],
   "source": [
    "class SoundEffectSpan(BaseModel):\n",
    "    prompt: str\n",
    "    text_between_tags: str\n",
    "    # indices relative to LLM response\n",
    "    ix_start: int\n",
    "    ix_end: int\n",
    "    # indices relative to origin text passed to LLM\n",
    "    ix_start_orig_text: int\n",
    "    ix_end_orig_text: int"
   ]
  },
  {
   "cell_type": "code",
   "execution_count": 75,
   "metadata": {},
   "outputs": [],
   "source": [
    "spans = []\n",
    "\n",
    "rm_chars_running_total = 0\n",
    "for m in all_matches:\n",
    "    mstart, mend = m.span()\n",
    "    prompt = m.group(1)\n",
    "    text_between_tags = m.group(2)\n",
    "\n",
    "    ix_start_orig = mstart - rm_chars_running_total\n",
    "    ix_end_orig = ix_start_orig + len(text_between_tags)\n",
    "\n",
    "    spans.append(\n",
    "        SoundEffectSpan(\n",
    "            prompt=prompt,\n",
    "            text_between_tags=text_between_tags,\n",
    "            ix_start=mstart,\n",
    "            ix_end=mend,\n",
    "            ix_start_orig_text=ix_start_orig,\n",
    "            ix_end_orig_text=ix_end_orig,\n",
    "        )\n",
    "    )\n",
    "\n",
    "    mlen = mend - mstart\n",
    "    rm_chars_running_total += mlen - len(text_between_tags)"
   ]
  },
  {
   "cell_type": "code",
   "execution_count": 76,
   "metadata": {},
   "outputs": [
    {
     "data": {
      "text/plain": [
       "[SoundEffectSpan(prompt='soft wind blowing', text_between_tags=' - she said softly, gasping the fresh air from the window', ix_start=5, ix_end=106, ix_start_orig_text=5, ix_end_orig_text=62),\n",
       " SoundEffectSpan(prompt='sound of a cars passing by', text_between_tags=\"Frankly, I don't know. I need more time\", ix_start=132, ix_end=224, ix_start_orig_text=88, ix_end_orig_text=127)]"
      ]
     },
     "execution_count": 76,
     "metadata": {},
     "output_type": "execute_result"
    }
   ],
   "source": [
    "spans"
   ]
  },
  {
   "cell_type": "code",
   "execution_count": 77,
   "metadata": {},
   "outputs": [
    {
     "data": {
      "text/plain": [
       "' - she said softly, gasping the fresh air from the window'"
      ]
     },
     "execution_count": 77,
     "metadata": {},
     "output_type": "execute_result"
    }
   ],
   "source": [
    "text[5:62]"
   ]
  },
  {
   "cell_type": "code",
   "execution_count": 78,
   "metadata": {},
   "outputs": [
    {
     "data": {
      "text/plain": [
       "\"Frankly, I don't know. I need more time\""
      ]
     },
     "execution_count": 78,
     "metadata": {},
     "output_type": "execute_result"
    }
   ],
   "source": [
    "text[88:127]"
   ]
  },
  {
   "cell_type": "code",
   "execution_count": null,
   "metadata": {},
   "outputs": [],
   "source": []
  },
  {
   "cell_type": "code",
   "execution_count": null,
   "metadata": {},
   "outputs": [],
   "source": []
  },
  {
   "cell_type": "markdown",
   "metadata": {},
   "source": [
    "## map characters to voices"
   ]
  },
  {
   "cell_type": "code",
   "execution_count": 10,
   "metadata": {},
   "outputs": [],
   "source": [
    "from src.select_voice_chain import create_voice_mapping_chain"
   ]
  },
  {
   "cell_type": "code",
   "execution_count": 11,
   "metadata": {},
   "outputs": [],
   "source": [
    "chain = create_voice_mapping_chain(llm_model=GPTModels.GPT_4_TURBO_2024_04_09)"
   ]
  },
  {
   "cell_type": "code",
   "execution_count": 12,
   "metadata": {},
   "outputs": [
    {
     "data": {
      "text/plain": [
       "ChatPromptTemplate(input_variables=['characters', 'text'], input_types={}, partial_variables={'available_genders': '\"male\", \"female\"', 'available_age_groups': '\"old\", \"middle_aged\", \"young\"', 'format_instructions': 'The output should be formatted as a JSON instance that conforms to the JSON schema below.\\n\\nAs an example, for the schema {\"properties\": {\"foo\": {\"title\": \"Foo\", \"description\": \"a list of strings\", \"type\": \"array\", \"items\": {\"type\": \"string\"}}}, \"required\": [\"foo\"]}\\nthe object {\"foo\": [\"bar\", \"baz\"]} is a well-formatted instance of the schema. The object {\"properties\": {\"foo\": [\"bar\", \"baz\"]}} is not well-formatted.\\n\\nHere is the output schema:\\n```\\n{\"$defs\": {\"CharacterProperties\": {\"properties\": {\"gender\": {\"title\": \"Gender\", \"type\": \"string\"}, \"age_group\": {\"title\": \"Age Group\", \"type\": \"string\"}}, \"required\": [\"gender\", \"age_group\"], \"title\": \"CharacterProperties\", \"type\": \"object\"}}, \"properties\": {\"character2props\": {\"additionalProperties\": {\"$ref\": \"#/$defs/CharacterProperties\"}, \"title\": \"Character2Props\", \"type\": \"object\"}}, \"required\": [\"character2props\"]}\\n```'}, messages=[SystemMessagePromptTemplate(prompt=PromptTemplate(input_variables=['available_age_groups', 'available_genders', 'format_instructions'], input_types={}, partial_variables={}, template='You are a helpful assistant proficient in literature and psychology.\\nOur goal is to create an audio book from the given text.\\nFor that we need to hire voice actors.\\nPlease help us to find the right actor for each character present in the text.\\n\\nYou are provided with the text split by the characters\\nto whom text parts belong to.\\n\\nYour task is to assign available properties to each character provided.\\nList of available properties:\\n- gender: {available_genders}\\n- age_group: {available_age_groups}\\n\\nNOTES:\\n- assign EXACTLY ONE property value for each property\\n- select properties values ONLY from the list of AVAILABLE property values\\n- fill properties for ALL characters from the list provided\\n- DO NOT include any characters absent in the list provided\\n\\n{format_instructions}\\n'), additional_kwargs={}), HumanMessagePromptTemplate(prompt=PromptTemplate(input_variables=['characters', 'text'], input_types={}, partial_variables={}, template='<text>\\n{text}\\n</text>\\n\\n<characters>\\n{characters}\\n</characters>\\n'), additional_kwargs={})])\n",
       "| RunnableBinding(bound=ChatOpenAI(client=<openai.resources.chat.completions.Completions object at 0x174a82d80>, async_client=<openai.resources.chat.completions.AsyncCompletions object at 0x174a812e0>, root_client=<openai.OpenAI object at 0x174a82d50>, root_async_client=<openai.AsyncOpenAI object at 0x174a81730>, model_name='gpt-4-turbo-2024-04-09', temperature=0.0, model_kwargs={}, openai_api_key=SecretStr('**********'), request_timeout=Timeout(connect=4, read=60, write=60, pool=60)), kwargs={'response_format': {'type': 'json_object'}}, config={}, config_factories=[])\n",
       "| PydanticOutputParser(pydantic_object=<class 'src.select_voice_chain.AllCharactersProperties'>)"
      ]
     },
     "execution_count": 12,
     "metadata": {},
     "output_type": "execute_result"
    }
   ],
   "source": [
    "chain"
   ]
  },
  {
   "cell_type": "code",
   "execution_count": 14,
   "metadata": {},
   "outputs": [
    {
     "name": "stderr",
     "output_type": "stream",
     "text": [
      "2024-10-10 02:37:46,347 [INFO] audio-books (lc_callbacks.py): call to gpt-4-turbo-2024-04-09 with 2 messages:\n",
      "{'role': 'system', 'content': 'You are a helpful assistant proficient in literature and psychology.\\nOur goal is to create an audio book from the given text.\\nFor that we need to hire voice actors.\\nPlease help us to find the right actor for each character present in the text.\\n\\nYou are provided with the text split by the characters\\nto whom text parts belong to.\\n\\nYour task is to assign available properties to each character provided.\\nList of available properties:\\n- gender: \"male\", \"female\"\\n- age_group: \"old\", \"middle_aged\", \"young\"\\n\\nNOTES:\\n- assign EXACTLY ONE property value for each property\\n- select properties values ONLY from the list of AVAILABLE property values\\n- fill properties for ALL characters from the list provided\\n- DO NOT include any characters absent in the list provided\\n\\nThe output should be formatted as a JSON instance that conforms to the JSON schema below.\\n\\nAs an example, for the schema {\"properties\": {\"foo\": {\"title\": \"Foo\", \"description\": \"a list of strings\", \"type\": \"array\", \"items\": {\"type\": \"string\"}}}, \"required\": [\"foo\"]}\\nthe object {\"foo\": [\"bar\", \"baz\"]} is a well-formatted instance of the schema. The object {\"properties\": {\"foo\": [\"bar\", \"baz\"]}} is not well-formatted.\\n\\nHere is the output schema:\\n```\\n{\"$defs\": {\"CharacterProperties\": {\"properties\": {\"gender\": {\"title\": \"Gender\", \"type\": \"string\"}, \"age_group\": {\"title\": \"Age Group\", \"type\": \"string\"}}, \"required\": [\"gender\", \"age_group\"], \"title\": \"CharacterProperties\", \"type\": \"object\"}}, \"properties\": {\"character2props\": {\"additionalProperties\": {\"$ref\": \"#/$defs/CharacterProperties\"}, \"title\": \"Character2Props\", \"type\": \"object\"}}, \"required\": [\"character2props\"]}\\n```\\n'}\n",
      "{'role': 'human', 'content': \"<text>\\n<narrator>Inside, the crimson room bloomed with light. Tom and Miss Baker sat at either end of the long couch and she read aloud to him from the Saturday Evening Post—the words, murmurous and uninflected, running together in a soothing tune. The lamplight, bright on his boots and dull on the autumn-leaf yellow of her hair, glinted along the paper as she turned a page with a flutter of slender muscles in her arms.</narrator>\\n\\n<narrator>When we came in she held us silent for a moment with a lifted hand.</narrator>\\n\\n<Jordan>“To be continued,”</Jordan> <narrator>she said, tossing the magazine on the table,</narrator> <Jordan>“in our very next issue.”</Jordan>\\n\\n<narrator>Her body asserted itself with a restless movement of her knee, and she stood up.</narrator>\\n\\n<Jordan>“Ten o’clock,”</Jordan> <narrator>she remarked, apparently finding the time on the ceiling.</narrator> <Jordan>“Time for this good girl to go to bed.”</Jordan>\\n\\n<Daisy>“Jordan’s going to play in the tournament tomorrow,”</Daisy> <narrator>explained Daisy,</narrator> <Daisy>“over at Westchester.”</Daisy>\\n\\n<narrator>“Oh—you’re Jordan Baker.”</narrator>\\n\\n<narrator>I knew now why her face was familiar—its pleasing contemptuous expression had looked out at me from many rotogravure pictures of the sporting life at Asheville and Hot Springs and Palm Beach. I had heard some story of her too, a critical, unpleasant story, but what it was I had forgotten long ago.</narrator>\\n\\n<Jordan>“Good night,”</Jordan> <narrator>she said softly.</narrator> <Jordan>“Wake me at eight, won’t you.”</Jordan>\\n\\n<Daisy>“If you’ll get up.”</Daisy>\\n\\n<Jordan>“I will. Good night, Mr. Carraway. See you anon.”</Jordan>\\n\\n<Daisy>“Of course you will,”</Daisy> <narrator>confirmed Daisy.</narrator> <Daisy>“In fact I think I’ll arrange a marriage. Come over often, Nick, and I’ll sort of—oh—fling you together. You know—lock you up accidentally in linen closets and push you out to sea in a boat, and all that sort of thing—”</Daisy>\\n\\n<Jordan>“Good night,”</Jordan> <narrator>called Miss Baker from the stairs.</narrator> <Jordan>“I haven’t heard a word.”</Jordan>\\n\\n<Tom>“She’s a nice girl,”</Tom> <narrator>said Tom after a moment.</narrator> <Tom>“They oughtn’t to let her run around the country this way.”</Tom>\\n\\n<Daisy>“Who oughtn’t to?”</Daisy> <narrator>inquired Daisy coldly.</narrator>\\n\\n<Tom>“Her family.”</Tom>\\n\\n<Daisy>“Her family is one aunt about a thousand years old. Besides, Nick’s going to look after her, aren’t you, Nick? She’s going to spend lots of weekends out here this summer. I think the home influence will be very good for her.”</Daisy>\\n\\n<narrator>Daisy and Tom looked at each other for a moment in silence.</narrator>\\n\\n<narrator>“Is she from New York?”</narrator> <narrator>I asked quickly.</narrator>\\n\\n<Daisy>“From Louisville. Our white girlhood was passed together there. Our beautiful white—”</Daisy>\\n\\n<Tom>“Did you give Nick a little heart to heart talk on the veranda?”</Tom> <narrator>demanded Tom suddenly.</narrator>\\n\\n<Daisy>“Did I?”</Daisy> <narrator>She looked at me.</narrator> <Daisy>“I can’t seem to remember, but I think we talked about the Nordic race. Yes, I’m sure we did. It sort of crept up on us and first thing you know—”</Daisy>\\n\\n<Tom>“Don’t believe everything you hear, Nick,”</Tom> <narrator>he advised me.</narrator>\\n</text>\\n\\n<characters>\\n['Tom', 'Jordan', 'Daisy', 'narrator']\\n</characters>\\n\"}\n",
      "2024-10-10 02:37:52,060 [INFO] httpx (_client.py): HTTP Request: POST https://api.openai.com/v1/chat/completions \"HTTP/1.1 200 OK\"\n",
      "2024-10-10 02:37:52,063 [INFO] audio-books (lc_callbacks.py): raw LLM response: \"{\n",
      "  \"character2props\": {\n",
      "    \"Tom\": {\n",
      "      \"gender\": \"male\",\n",
      "      \"age_group\": \"middle_aged\"\n",
      "    },\n",
      "    \"Jordan\": {\n",
      "      \"gender\": \"female\",\n",
      "      \"age_group\": \"young\"\n",
      "    },\n",
      "    \"Daisy\": {\n",
      "      \"gender\": \"female\",\n",
      "      \"age_group\": \"young\"\n",
      "    },\n",
      "    \"narrator\": {\n",
      "      \"gender\": \"male\",\n",
      "      \"age_group\": \"middle_aged\"\n",
      "    }\n",
      "  }\n",
      "}\"\n"
     ]
    }
   ],
   "source": [
    "res2 = chain.invoke(\n",
    "    {\"text\": res.text_annotated, \"characters\": res.characters},\n",
    "    config={\"callbacks\": [LCMessageLoggerAsync()]},\n",
    ")"
   ]
  },
  {
   "cell_type": "code",
   "execution_count": 15,
   "metadata": {},
   "outputs": [
    {
     "data": {
      "text/plain": [
       "AllCharactersProperties(character2props={'Tom': CharacterProperties(gender='male', age_group='middle_aged'), 'Jordan': CharacterProperties(gender='female', age_group='young'), 'Daisy': CharacterProperties(gender='female', age_group='young'), 'narrator': CharacterProperties(gender='male', age_group='middle_aged')})"
      ]
     },
     "execution_count": 15,
     "metadata": {},
     "output_type": "execute_result"
    }
   ],
   "source": [
    "res2"
   ]
  },
  {
   "cell_type": "code",
   "execution_count": null,
   "metadata": {},
   "outputs": [
    {
     "name": "stdout",
     "output_type": "stream",
     "text": [
      "<class 'pandas.core.frame.DataFrame'>\n",
      "RangeIndex: 22 entries, 0 to 21\n",
      "Data columns (total 14 columns):\n",
      " #   Column                  Non-Null Count  Dtype  \n",
      "---  ------                  --------------  -----  \n",
      " 0   voice_id                22 non-null     object \n",
      " 1   name                    22 non-null     object \n",
      " 2   preview_url             22 non-null     object \n",
      " 3   owner_id                0 non-null      float64\n",
      " 4   permission_on_resource  2 non-null      object \n",
      " 5   is_legacy               22 non-null     bool   \n",
      " 6   is_mixed                22 non-null     bool   \n",
      " 7   accent                  22 non-null     object \n",
      " 8   description             20 non-null     object \n",
      " 9   age                     22 non-null     object \n",
      " 10  gender                  22 non-null     object \n",
      " 11  category                22 non-null     object \n",
      " 12  language                2 non-null      object \n",
      " 13  descriptive             2 non-null      object \n",
      "dtypes: bool(2), float64(1), object(11)\n",
      "memory usage: 2.2+ KB\n"
     ]
    }
   ],
   "source": [
    "voices = pd.read_csv(\"11labs_available_tts_voices.csv\")\n",
    "voices.info()"
   ]
  },
  {
   "cell_type": "code",
   "execution_count": null,
   "metadata": {},
   "outputs": [
    {
     "data": {
      "text/plain": [
       "array(['middle_aged', 'young', 'old'], dtype=object)"
      ]
     },
     "metadata": {},
     "output_type": "display_data"
    }
   ],
   "source": [
    "voices[\"age\"].unique()"
   ]
  },
  {
   "cell_type": "code",
   "execution_count": null,
   "metadata": {},
   "outputs": [
    {
     "data": {
      "text/plain": [
       "array(['female', 'male', 'non-binary', 'neutral'], dtype=object)"
      ]
     },
     "metadata": {},
     "output_type": "display_data"
    }
   ],
   "source": [
    "voices[\"gender\"].unique()"
   ]
  },
  {
   "cell_type": "code",
   "execution_count": null,
   "metadata": {},
   "outputs": [],
   "source": []
  },
  {
   "cell_type": "markdown",
   "metadata": {},
   "source": [
    "## generate audio with timestamps"
   ]
  },
  {
   "cell_type": "code",
   "execution_count": 5,
   "metadata": {},
   "outputs": [
    {
     "name": "stdout",
     "output_type": "stream",
     "text": [
      "('This document is an annotated index of popular articles and important '\n",
      " 'information for improving and adding functionalities to the installed Arch '\n",
      " 'system. Readers are assumed to have read and followed t')\n"
     ]
    }
   ],
   "source": [
    "text = samples.ARCH_WIKI_1[:200]\n",
    "pprint(text)"
   ]
  },
  {
   "cell_type": "code",
   "execution_count": 6,
   "metadata": {},
   "outputs": [],
   "source": [
    "text = '''\\\n",
    "hello, this is the test when I am voicing 123 different phrases (some in parentheses),\n",
    "with newlines\n",
    "some unreadable characters: #!@%*&\n",
    "LooLLL123\n",
    "how is it??? going!!\n",
    "and some smiles: :))\n",
    "'''"
   ]
  },
  {
   "cell_type": "code",
   "execution_count": 16,
   "metadata": {},
   "outputs": [],
   "source": [
    "params = TTSParams(\n",
    "    voice_id=\"8opUN7sGOKbyojnjvNdl\",\n",
    "    text=text,\n",
    "    # seed=672\n",
    ")"
   ]
  },
  {
   "cell_type": "code",
   "execution_count": 17,
   "metadata": {},
   "outputs": [
    {
     "data": {
      "text/plain": [
       "<AudioOutputFormat.MP3_44100_192: 'mp3_44100_192'>"
      ]
     },
     "execution_count": 17,
     "metadata": {},
     "output_type": "execute_result"
    }
   ],
   "source": [
    "params.output_format"
   ]
  },
  {
   "cell_type": "code",
   "execution_count": 18,
   "metadata": {},
   "outputs": [
    {
     "data": {
      "text/plain": [
       "[('voice_id', '8opUN7sGOKbyojnjvNdl'),\n",
       " ('text',\n",
       "  'hello, this is the test when I am voicing 123 different phrases (some in parentheses),\\nwith newlines\\nsome unreadable characters: #!@%*&\\nLooLLL123\\nhow is it??? going!!\\nand some smiles: :))\\n'),\n",
       " ('output_format', <AudioOutputFormat.MP3_44100_192: 'mp3_44100_192'>),\n",
       " ('audio_model_id', Ellipsis),\n",
       " ('language_code', Ellipsis),\n",
       " ('voice_settings', Ellipsis),\n",
       " ('seed', 672),\n",
       " ('previous_text', Ellipsis),\n",
       " ('next_text', Ellipsis),\n",
       " ('previous_request_ids', Ellipsis),\n",
       " ('next_request_ids', Ellipsis)]"
      ]
     },
     "execution_count": 18,
     "metadata": {},
     "output_type": "execute_result"
    }
   ],
   "source": [
    "list(params)"
   ]
  },
  {
   "cell_type": "code",
   "execution_count": 19,
   "metadata": {},
   "outputs": [
    {
     "data": {
      "text/plain": [
       "{'voice_id': '8opUN7sGOKbyojnjvNdl',\n",
       " 'text': 'hello, this is the test when I am voicing 123 different phrases (some in parentheses),\\nwith newlines\\nsome unreadable characters: #!@%*&\\nLooLLL123\\nhow is it??? going!!\\nand some smiles: :))\\n',\n",
       " 'output_format': <AudioOutputFormat.MP3_44100_192: 'mp3_44100_192'>,\n",
       " 'seed': 672}"
      ]
     },
     "execution_count": 19,
     "metadata": {},
     "output_type": "execute_result"
    }
   ],
   "source": [
    "params.to_dict()"
   ]
  },
  {
   "cell_type": "code",
   "execution_count": 22,
   "metadata": {},
   "outputs": [
    {
     "name": "stderr",
     "output_type": "stream",
     "text": [
      "2024-10-29 22:55:03,113 [INFO] audio-books (tts.py): request to 11labs TTS endpoint with params {'voice_id': '8opUN7sGOKbyojnjvNdl', 'output_format': <AudioOutputFormat.MP3_44100_192: 'mp3_44100_192'>, 'seed': 672} for the following text: \"hello, this is the test when I am voicing 123 different phrases (some in parentheses),\n",
      "with newlines\n",
      "some unreadable characters: #!@%*&\n",
      "LooLLL123\n",
      "how is it??? going!!\n",
      "and some smiles: :))\n",
      "\"\n",
      "2024-10-29 22:55:06,333 [INFO] httpx (_client.py): HTTP Request: POST https://api.elevenlabs.io/v1/text-to-speech/8opUN7sGOKbyojnjvNdl/with-timestamps?output_format=mp3_44100_192 \"HTTP/1.1 200 OK\"\n"
     ]
    }
   ],
   "source": [
    "response = await tts.tts_w_timestamps(params)"
   ]
  },
  {
   "cell_type": "code",
   "execution_count": 23,
   "metadata": {},
   "outputs": [
    {
     "name": "stderr",
     "output_type": "stream",
     "text": [
      "2024-10-29 22:55:07,034 [INFO] audio-books (utils.py): saving to: \"tmp.672.2.mp3\"\n"
     ]
    },
    {
     "data": {
      "text/plain": [
       "'tmp.672.2.mp3'"
      ]
     },
     "execution_count": 23,
     "metadata": {},
     "output_type": "execute_result"
    }
   ],
   "source": [
    "response.write_audio_to_file('tmp.672.2', params.output_format)"
   ]
  },
  {
   "cell_type": "code",
   "execution_count": null,
   "metadata": {},
   "outputs": [],
   "source": []
  },
  {
   "cell_type": "code",
   "execution_count": 64,
   "metadata": {},
   "outputs": [
    {
     "name": "stderr",
     "output_type": "stream",
     "text": [
      "/Users/ales/dev/python-venvs/ai-audio-books/lib/python3.12/site-packages/pydantic/main.py:390: UserWarning: Pydantic serializer warnings:\n",
      "  Expected `str` but got `ellipsis` with value `Ellipsis` - serialized value may not be as expected\n",
      "  Expected `str` but got `ellipsis` with value `Ellipsis` - serialized value may not be as expected\n",
      "  Expected `VoiceSettings` but got `ellipsis` with value `Ellipsis` - serialized value may not be as expected\n",
      "  Expected `int` but got `ellipsis` with value `Ellipsis` - serialized value may not be as expected\n",
      "  Expected `str` but got `ellipsis` with value `Ellipsis` - serialized value may not be as expected\n",
      "  Expected `str` but got `ellipsis` with value `Ellipsis` - serialized value may not be as expected\n",
      "  return self.__pydantic_serializer__.to_python(\n",
      "2024-10-27 21:44:22,111 [INFO] httpx (_client.py): HTTP Request: POST https://api.elevenlabs.io/v1/text-to-speech/8opUN7sGOKbyojnjvNdl/with-timestamps?output_format=mp3_44100_192 \"HTTP/1.1 200 OK\"\n"
     ]
    }
   ],
   "source": [
    "response_raw = await tts.ELEVEN_CLIENT_ASYNC.text_to_speech.convert_with_timestamps(\n",
    "    **params.to_dict()\n",
    ")"
   ]
  },
  {
   "cell_type": "code",
   "execution_count": 75,
   "metadata": {},
   "outputs": [],
   "source": [
    "response_parsed = TTSTimestampsResponse.model_validate(response_raw)"
   ]
  },
  {
   "cell_type": "code",
   "execution_count": 86,
   "metadata": {},
   "outputs": [
    {
     "data": {
      "text/plain": [
       "'hello, this is the test when I am voicing 123 different phrases (some in parentheses),\\nwith newlines\\nsome unreadable characters: #!@%*&\\nLooLLL123\\nhow is it??? going!!\\nand some smiles: :))\\n'"
      ]
     },
     "execution_count": 86,
     "metadata": {},
     "output_type": "execute_result"
    }
   ],
   "source": [
    "t = response_parsed.alignment.text_joined\n",
    "t"
   ]
  },
  {
   "cell_type": "code",
   "execution_count": 89,
   "metadata": {},
   "outputs": [],
   "source": [
    "from src.schemas import TTSTimestampsAlignemnt"
   ]
  },
  {
   "cell_type": "code",
   "execution_count": 94,
   "metadata": {},
   "outputs": [],
   "source": [
    "a1 = TTSTimestampsAlignemnt(\n",
    "    characters=list('abc'),\n",
    "    character_start_times_seconds=[0.1, 0.2, 0.3],\n",
    "    character_end_times_seconds=[0.15, 0.25, 0.35],\n",
    ")\n",
    "a2 = TTSTimestampsAlignemnt(\n",
    "    characters=list('def'),\n",
    "    character_start_times_seconds=[0.1, 0.2, 0.3],\n",
    "    character_end_times_seconds=[0.15, 0.25, 0.35],\n",
    ")\n",
    "a3 = TTSTimestampsAlignemnt(\n",
    "    characters=list(\"ghi\"),\n",
    "    character_start_times_seconds=[0.1, 0.2, 0.3],\n",
    "    character_end_times_seconds=[0.15, 0.25, 0.35],\n",
    ")"
   ]
  },
  {
   "cell_type": "code",
   "execution_count": 108,
   "metadata": {},
   "outputs": [],
   "source": [
    "a = TTSTimestampsAlignemnt.combine_alignments(alignments=[a1, a2, a3])"
   ]
  },
  {
   "cell_type": "code",
   "execution_count": 109,
   "metadata": {},
   "outputs": [
    {
     "data": {
      "text/html": [
       "<div>\n",
       "<style scoped>\n",
       "    .dataframe tbody tr th:only-of-type {\n",
       "        vertical-align: middle;\n",
       "    }\n",
       "\n",
       "    .dataframe tbody tr th {\n",
       "        vertical-align: top;\n",
       "    }\n",
       "\n",
       "    .dataframe thead th {\n",
       "        text-align: right;\n",
       "    }\n",
       "</style>\n",
       "<table border=\"1\" class=\"dataframe\">\n",
       "  <thead>\n",
       "    <tr style=\"text-align: right;\">\n",
       "      <th></th>\n",
       "      <th>char</th>\n",
       "      <th>start</th>\n",
       "      <th>end</th>\n",
       "    </tr>\n",
       "  </thead>\n",
       "  <tbody>\n",
       "    <tr>\n",
       "      <th>0</th>\n",
       "      <td>a</td>\n",
       "      <td>0.10</td>\n",
       "      <td>0.15</td>\n",
       "    </tr>\n",
       "    <tr>\n",
       "      <th>1</th>\n",
       "      <td>b</td>\n",
       "      <td>0.20</td>\n",
       "      <td>0.25</td>\n",
       "    </tr>\n",
       "    <tr>\n",
       "      <th>2</th>\n",
       "      <td>c</td>\n",
       "      <td>0.30</td>\n",
       "      <td>0.35</td>\n",
       "    </tr>\n",
       "    <tr>\n",
       "      <th>3</th>\n",
       "      <td>d</td>\n",
       "      <td>0.45</td>\n",
       "      <td>0.50</td>\n",
       "    </tr>\n",
       "    <tr>\n",
       "      <th>4</th>\n",
       "      <td>e</td>\n",
       "      <td>0.55</td>\n",
       "      <td>0.60</td>\n",
       "    </tr>\n",
       "    <tr>\n",
       "      <th>5</th>\n",
       "      <td>f</td>\n",
       "      <td>0.65</td>\n",
       "      <td>0.70</td>\n",
       "    </tr>\n",
       "    <tr>\n",
       "      <th>6</th>\n",
       "      <td>g</td>\n",
       "      <td>0.80</td>\n",
       "      <td>0.85</td>\n",
       "    </tr>\n",
       "    <tr>\n",
       "      <th>7</th>\n",
       "      <td>h</td>\n",
       "      <td>0.90</td>\n",
       "      <td>0.95</td>\n",
       "    </tr>\n",
       "    <tr>\n",
       "      <th>8</th>\n",
       "      <td>i</td>\n",
       "      <td>1.00</td>\n",
       "      <td>1.05</td>\n",
       "    </tr>\n",
       "  </tbody>\n",
       "</table>\n",
       "</div>"
      ],
      "text/plain": [
       "  char  start   end\n",
       "0    a   0.10  0.15\n",
       "1    b   0.20  0.25\n",
       "2    c   0.30  0.35\n",
       "3    d   0.45  0.50\n",
       "4    e   0.55  0.60\n",
       "5    f   0.65  0.70\n",
       "6    g   0.80  0.85\n",
       "7    h   0.90  0.95\n",
       "8    i   1.00  1.05"
      ]
     },
     "execution_count": 109,
     "metadata": {},
     "output_type": "execute_result"
    }
   ],
   "source": [
    "a.to_dataframe()"
   ]
  },
  {
   "cell_type": "code",
   "execution_count": 110,
   "metadata": {},
   "outputs": [
    {
     "data": {
      "text/plain": [
       "0.44999999999999996"
      ]
     },
     "execution_count": 110,
     "metadata": {},
     "output_type": "execute_result"
    }
   ],
   "source": [
    "a.get_start_time_by_char_ix(3)"
   ]
  },
  {
   "cell_type": "code",
   "execution_count": 111,
   "metadata": {},
   "outputs": [
    {
     "data": {
      "text/plain": [
       "0.85"
      ]
     },
     "execution_count": 111,
     "metadata": {},
     "output_type": "execute_result"
    }
   ],
   "source": [
    "a.get_end_time_by_char_ix(6)"
   ]
  },
  {
   "cell_type": "code",
   "execution_count": null,
   "metadata": {},
   "outputs": [],
   "source": []
  },
  {
   "cell_type": "code",
   "execution_count": null,
   "metadata": {},
   "outputs": [],
   "source": []
  },
  {
   "cell_type": "markdown",
   "metadata": {},
   "source": [
    "## compare audio quality for different formats"
   ]
  },
  {
   "cell_type": "code",
   "execution_count": 5,
   "metadata": {},
   "outputs": [
    {
     "name": "stdout",
     "output_type": "stream",
     "text": [
      "('This document is an annotated index of popular articles and important '\n",
      " 'information for improving and adding functionalities to the installed Arch '\n",
      " 'system. Readers are assumed to have read and followed t')\n"
     ]
    }
   ],
   "source": [
    "text = samples.ARCH_WIKI_1[:200]\n",
    "pprint(text)"
   ]
  },
  {
   "cell_type": "code",
   "execution_count": 12,
   "metadata": {},
   "outputs": [],
   "source": [
    "params_base = TTSParams(\n",
    "    voice_id=\"8opUN7sGOKbyojnjvNdl\",\n",
    "    text=\"hello, how are you doing? this is the test aiming to decide which audio quality option to use\",\n",
    "    # text=text,\n",
    ")"
   ]
  },
  {
   "cell_type": "code",
   "execution_count": 13,
   "metadata": {},
   "outputs": [
    {
     "name": "stderr",
     "output_type": "stream",
     "text": [
      "/Users/ales/dev/python-venvs/ai-audio-books/lib/python3.12/site-packages/pydantic/main.py:390: UserWarning: Pydantic serializer warnings:\n",
      "  Expected `str` but got `ellipsis` with value `Ellipsis` - serialized value may not be as expected\n",
      "  Expected `str` but got `ellipsis` with value `Ellipsis` - serialized value may not be as expected\n",
      "  Expected `VoiceSettings` but got `ellipsis` with value `Ellipsis` - serialized value may not be as expected\n",
      "  Expected `int` but got `ellipsis` with value `Ellipsis` - serialized value may not be as expected\n",
      "  Expected `str` but got `ellipsis` with value `Ellipsis` - serialized value may not be as expected\n",
      "  Expected `str` but got `ellipsis` with value `Ellipsis` - serialized value may not be as expected\n",
      "  return self.__pydantic_serializer__.to_python(\n",
      "2024-10-27 18:16:54,779 [INFO] httpx (_client.py): HTTP Request: POST https://api.elevenlabs.io/v1/text-to-speech/8opUN7sGOKbyojnjvNdl/with-timestamps?output_format=mp3_22050_32 \"HTTP/1.1 200 OK\"\n",
      "2024-10-27 18:16:54,807 [INFO] audio-books (utils.py): saving to: \"data/compare_audio_quality2/compare.mp3_22050_32.mp3\"\n",
      "2024-10-27 18:16:56,094 [INFO] httpx (_client.py): HTTP Request: POST https://api.elevenlabs.io/v1/text-to-speech/8opUN7sGOKbyojnjvNdl/with-timestamps?output_format=mp3_44100_32 \"HTTP/1.1 200 OK\"\n",
      "2024-10-27 18:16:56,110 [INFO] audio-books (utils.py): saving to: \"data/compare_audio_quality2/compare.mp3_44100_32.mp3\"\n",
      "2024-10-27 18:16:57,444 [INFO] httpx (_client.py): HTTP Request: POST https://api.elevenlabs.io/v1/text-to-speech/8opUN7sGOKbyojnjvNdl/with-timestamps?output_format=mp3_44100_64 \"HTTP/1.1 200 OK\"\n",
      "2024-10-27 18:16:57,472 [INFO] audio-books (utils.py): saving to: \"data/compare_audio_quality2/compare.mp3_44100_64.mp3\"\n",
      "2024-10-27 18:16:59,066 [INFO] httpx (_client.py): HTTP Request: POST https://api.elevenlabs.io/v1/text-to-speech/8opUN7sGOKbyojnjvNdl/with-timestamps?output_format=mp3_44100_96 \"HTTP/1.1 200 OK\"\n",
      "2024-10-27 18:16:59,106 [INFO] audio-books (utils.py): saving to: \"data/compare_audio_quality2/compare.mp3_44100_96.mp3\"\n",
      "2024-10-27 18:17:00,483 [INFO] httpx (_client.py): HTTP Request: POST https://api.elevenlabs.io/v1/text-to-speech/8opUN7sGOKbyojnjvNdl/with-timestamps?output_format=mp3_44100_128 \"HTTP/1.1 200 OK\"\n",
      "2024-10-27 18:17:00,513 [INFO] audio-books (utils.py): saving to: \"data/compare_audio_quality2/compare.mp3_44100_128.mp3\"\n",
      "2024-10-27 18:17:01,877 [INFO] httpx (_client.py): HTTP Request: POST https://api.elevenlabs.io/v1/text-to-speech/8opUN7sGOKbyojnjvNdl/with-timestamps?output_format=mp3_44100_192 \"HTTP/1.1 200 OK\"\n",
      "2024-10-27 18:17:01,898 [INFO] audio-books (utils.py): saving to: \"data/compare_audio_quality2/compare.mp3_44100_192.mp3\"\n",
      "2024-10-27 18:17:03,164 [INFO] httpx (_client.py): HTTP Request: POST https://api.elevenlabs.io/v1/text-to-speech/8opUN7sGOKbyojnjvNdl/with-timestamps?output_format=pcm_16000 \"HTTP/1.1 200 OK\"\n",
      "2024-10-27 18:17:03,213 [INFO] audio-books (utils.py): saving to: \"data/compare_audio_quality2/compare.pcm_16000.wav\"\n",
      "2024-10-27 18:17:04,584 [INFO] httpx (_client.py): HTTP Request: POST https://api.elevenlabs.io/v1/text-to-speech/8opUN7sGOKbyojnjvNdl/with-timestamps?output_format=pcm_22050 \"HTTP/1.1 200 OK\"\n",
      "2024-10-27 18:17:04,651 [INFO] audio-books (utils.py): saving to: \"data/compare_audio_quality2/compare.pcm_22050.wav\"\n",
      "2024-10-27 18:17:05,986 [INFO] httpx (_client.py): HTTP Request: POST https://api.elevenlabs.io/v1/text-to-speech/8opUN7sGOKbyojnjvNdl/with-timestamps?output_format=pcm_24000 \"HTTP/1.1 200 OK\"\n",
      "2024-10-27 18:17:06,074 [INFO] audio-books (utils.py): saving to: \"data/compare_audio_quality2/compare.pcm_24000.wav\"\n",
      "2024-10-27 18:17:07,600 [INFO] httpx (_client.py): HTTP Request: POST https://api.elevenlabs.io/v1/text-to-speech/8opUN7sGOKbyojnjvNdl/with-timestamps?output_format=pcm_44100 \"HTTP/1.1 200 OK\"\n",
      "2024-10-27 18:17:07,698 [INFO] audio-books (utils.py): saving to: \"data/compare_audio_quality2/compare.pcm_44100.wav\"\n"
     ]
    }
   ],
   "source": [
    "# out_dp = \"data/compare_audio_quality2\"\n",
    "# os.makedirs(out_dp, exist_ok=True)\n",
    "\n",
    "# for audio_format in AudioOutputFormat:\n",
    "#     if audio_format is AudioOutputFormat.ULAW_8000:\n",
    "#         continue\n",
    "\n",
    "#     params = params_base.model_copy(deep=True)\n",
    "#     params.output_format = audio_format\n",
    "\n",
    "#     response_raw = await ELEVEN_CLIENT_ASYNC.text_to_speech.convert_with_timestamps(\n",
    "#         **params.to_dict()\n",
    "#     )\n",
    "#     response_parsed = TTSTimestampsResponse.model_validate(response_raw)\n",
    "\n",
    "#     filepath_no_ext = os.path.join(out_dp, f\"compare.{audio_format}\")\n",
    "#     out_fp = response_parsed.write_audio_to_file(\n",
    "#         filepath_no_ext=filepath_no_ext, audio_format=audio_format\n",
    "#     )"
   ]
  },
  {
   "cell_type": "code",
   "execution_count": 11,
   "metadata": {},
   "outputs": [
    {
     "name": "stdout",
     "output_type": "stream",
     "text": [
      "ffprobe version 7.0.1 Copyright (c) 2007-2024 the FFmpeg developers\n",
      "  built with Apple clang version 15.0.0 (clang-1500.3.9.4)\n",
      "  configuration: --prefix=/opt/homebrew/Cellar/ffmpeg/7.0.1 --enable-shared --enable-pthreads --enable-version3 --cc=clang --host-cflags= --host-ldflags='-Wl,-ld_classic' --enable-ffplay --enable-gnutls --enable-gpl --enable-libaom --enable-libaribb24 --enable-libbluray --enable-libdav1d --enable-libharfbuzz --enable-libjxl --enable-libmp3lame --enable-libopus --enable-librav1e --enable-librist --enable-librubberband --enable-libsnappy --enable-libsrt --enable-libssh --enable-libsvtav1 --enable-libtesseract --enable-libtheora --enable-libvidstab --enable-libvmaf --enable-libvorbis --enable-libvpx --enable-libwebp --enable-libx264 --enable-libx265 --enable-libxml2 --enable-libxvid --enable-lzma --enable-libfontconfig --enable-libfreetype --enable-frei0r --enable-libass --enable-libopencore-amrnb --enable-libopencore-amrwb --enable-libopenjpeg --enable-libspeex --enable-libsoxr --enable-libzmq --enable-libzimg --disable-libjack --disable-indev=jack --enable-videotoolbox --enable-audiotoolbox --enable-neon\n",
      "  libavutil      59.  8.100 / 59.  8.100\n",
      "  libavcodec     61.  3.100 / 61.  3.100\n",
      "  libavformat    61.  1.100 / 61.  1.100\n",
      "  libavdevice    61.  1.100 / 61.  1.100\n",
      "  libavfilter    10.  1.100 / 10.  1.100\n",
      "  libswscale      8.  1.100 /  8.  1.100\n",
      "  libswresample   5.  1.100 /  5.  1.100\n",
      "  libpostproc    58.  1.100 / 58.  1.100\n",
      "\u001b[0;35m[mp3 @ 0x134724c80] \u001b[0m\u001b[0;33mEstimating duration from bitrate, this may be inaccurate\n",
      "\u001b[0mInput #0, mp3, from 'data/compare_audio_quality/compare.mp3_44100_64.mp3':\n",
      "  Duration: 00:00:12.56, start: 0.000000, bitrate: 64 kb/s\n",
      "  Stream #0:0: Audio: mp3 (mp3float), 44100 Hz, mono, fltp, 64 kb/s\n"
     ]
    }
   ],
   "source": [
    "!ffprobe data/compare_audio_quality/compare.mp3_44100_64.mp3"
   ]
  },
  {
   "cell_type": "code",
   "execution_count": null,
   "metadata": {},
   "outputs": [],
   "source": []
  },
  {
   "cell_type": "code",
   "execution_count": null,
   "metadata": {},
   "outputs": [],
   "source": []
  }
 ],
 "metadata": {
  "kernelspec": {
   "display_name": "ai-audio-books",
   "language": "python",
   "name": "python3"
  },
  "language_info": {
   "codemirror_mode": {
    "name": "ipython",
    "version": 3
   },
   "file_extension": ".py",
   "mimetype": "text/x-python",
   "name": "python",
   "nbconvert_exporter": "python",
   "pygments_lexer": "ipython3",
   "version": "3.12.4"
  }
 },
 "nbformat": 4,
 "nbformat_minor": 2
}
